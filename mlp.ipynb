{
  "nbformat": 4,
  "nbformat_minor": 0,
  "metadata": {
    "colab": {
      "name": "mlpxor.ipynb",
      "provenance": [],
      "collapsed_sections": []
    },
    "kernelspec": {
      "name": "python3",
      "display_name": "Python 3"
    },
    "language_info": {
      "name": "python"
    }
  },
  "cells": [
    {
      "cell_type": "code",
      "metadata": {
        "colab": {
          "base_uri": "https://localhost:8080/"
        },
        "id": "gI2wkigtyHE_",
        "outputId": "231f6ee3-d29b-472c-98d0-6e13d47188e0"
      },
      "source": [
        "import numpy as np \n",
        "\n",
        "num_input = 2\n",
        "num_output = 1 \n",
        "num_sample = 4\n",
        "\n",
        "# training sample\n",
        "X = np.array([0, 0, 1, 1, 0, 1, 0, 1]).reshape(num_input, num_sample)\n",
        "Ot = np.array([0, 1, 1, 0]).reshape(num_output, num_sample)\n",
        "\n",
        "print(X)\n",
        "print(Ot)"
      ],
      "execution_count": null,
      "outputs": [
        {
          "output_type": "stream",
          "text": [
            "[[0 0 1 1]\n",
            " [0 1 0 1]]\n",
            "[[0 1 1 0]]\n"
          ],
          "name": "stdout"
        }
      ]
    },
    {
      "cell_type": "code",
      "metadata": {
        "colab": {
          "base_uri": "https://localhost:8080/"
        },
        "id": "w2bz2Vd9y0cr",
        "outputId": "ec983e2d-f30b-45e1-ab1c-b9da2de0a4e1"
      },
      "source": [
        "# weight parameter initialization\n",
        "def init_params(num_input = 2, num_hidden = 2):\n",
        "  W1 = np.random.rand(num_hidden, num_input)\n",
        "  B1 = np.random.rand(num_hidden, 1)\n",
        "  W2 = np.random.rand(num_output, num_hidden)\n",
        "  B2 = np.random.rand(num_output, 1)\n",
        "  return W1, B1, W2, B2\n",
        "\n",
        "# initialize with zero >> Weights learn same features every iteration >> poor learning\n",
        "# def init_params(num_input = 2, num_hidden = 2):\n",
        "#   W1 = np.zeros((num_hidden, num_input))\n",
        "#   B1 = np.zeros((num_hidden, 1))\n",
        "#   W2 = np.zeros((num_output, num_hidden))\n",
        "#   B2 = np.zeros((num_output, 1))\n",
        "#   return W1, B1, W2, B2\n",
        "\n",
        "W1, B1, W2, B2 = init_params()\n",
        "print(W1)\n",
        "print(B1)\n",
        "print(W2)\n",
        "print(B2)"
      ],
      "execution_count": null,
      "outputs": [
        {
          "output_type": "stream",
          "text": [
            "[[0.28676208 0.81261066]\n",
            " [0.81772389 0.29597532]]\n",
            "[[0.16786939]\n",
            " [0.11545595]]\n",
            "[[0.60403586 0.73212108]]\n",
            "[[0.34876651]]\n"
          ],
          "name": "stdout"
        }
      ]
    },
    {
      "cell_type": "code",
      "metadata": {
        "colab": {
          "base_uri": "https://localhost:8080/"
        },
        "id": "7S-r4RM7zXV0",
        "outputId": "917817b9-7215-4afc-bc33-870dc074247f"
      },
      "source": [
        "# weight * input + bias\n",
        "def wxpb(W, X, B):\n",
        "  return np.dot(W, X) + B\n",
        "\n",
        "def sigmoid (x):\n",
        "  return 1./(1+ np.exp(-1*x))\n",
        "\n",
        "# first layer\n",
        "Z1 = wxpb(W1, X, B1)\n",
        "Y = sigmoid(Z1)\n",
        "print(Y)"
      ],
      "execution_count": null,
      "outputs": [
        {
          "output_type": "stream",
          "text": [
            "[[0.54186907 0.72720346 0.61173984 0.78027028]\n",
            " [0.52883197 0.60143102 0.71771996 0.77367067]]\n"
          ],
          "name": "stdout"
        }
      ]
    },
    {
      "cell_type": "code",
      "metadata": {
        "colab": {
          "base_uri": "https://localhost:8080/"
        },
        "id": "nFFv4GzBztQb",
        "outputId": "6248a57a-ee1d-4ae5-bdee-8a0a64e507b0"
      },
      "source": [
        "# second layer\n",
        "Z2 = wxpb(W2, Y, B2)\n",
        "O = sigmoid(Z2)\n",
        "print(O)"
      ],
      "execution_count": null,
      "outputs": [
        {
          "output_type": "stream",
          "text": [
            "[[0.74330997 0.77352857 0.77621386 0.80003264]]\n"
          ],
          "name": "stdout"
        }
      ]
    },
    {
      "cell_type": "code",
      "metadata": {
        "colab": {
          "base_uri": "https://localhost:8080/"
        },
        "id": "sTFovwQG0IXY",
        "outputId": "9bf67dc4-38af-4991-f92e-ef109c61ea9c"
      },
      "source": [
        "# loss function\n",
        "def loss_func(O, Ot):\n",
        "  return 1./num_sample * np.sum(-1*(Ot*np.log(O) + (1-Ot)*np.log(1-O)))\n",
        "\n",
        "loss = loss_func(O, Ot)\n",
        "print(loss)"
      ],
      "execution_count": null,
      "outputs": [
        {
          "output_type": "stream",
          "text": [
            "0.8699017513465476\n"
          ],
          "name": "stdout"
        }
      ]
    },
    {
      "cell_type": "code",
      "metadata": {
        "id": "TpnrrUsU0els"
      },
      "source": [
        "# forward propagation\n",
        "def forward(W1, B1, W2, B2):\n",
        "  Z1 = wxpb(W1, X, B1)\n",
        "  Y = sigmoid(Z1)\n",
        "\n",
        "  Z2 = wxpb(W2, Y, B2)\n",
        "  O = sigmoid(Z2)\n",
        "\n",
        "  loss = loss_func(O, Ot)\n",
        "  return Z1, Y, Z2, O, loss\n",
        "\n",
        "def backprop(W1, B1, W2, B2, Z1, Y, Z2, O, Ot):\n",
        "\n",
        "  dZ2 = np.multiply((O-Ot), 1)\n",
        "  dW2 = np.dot(dZ2, Y.T)\n",
        "  dB2 = 1./4. * np.sum(dZ2, axis = 1, keepdims = True)\n",
        "  dY = np.dot(W2.T, dZ2)\n",
        "\n",
        "  dZ1 = np.multiply(dY, Y*(1-Y))\n",
        "  dW1 = np.dot(dZ1, X.T)\n",
        "  dB1 = 1./4.*np.sum(dZ1, axis = 1, keepdims = True)\n",
        "\n",
        "  return dW1, dB1, dW2, dB2\n",
        "\n",
        "def train(W1, B1, W2, B2, lr = 0.1, iteration = 1000):\n",
        "  loss_trace = []\n",
        "  for iter in range(iteration):\n",
        "    Z1, Y, Z2, O, loss = forward(W1, B1, W2, B2)\n",
        "    dW1, dB1, dW2, dB2 = backprop(W1, B1, W2, B2, Z1, Y, Z2, O, Ot)\n",
        "\n",
        "    W1 = W1 - lr * dW1\n",
        "    B1 = B1 - lr * dB1 \n",
        "    W2 = W2 - lr * dW2\n",
        "    B2 = B2 - lr * dB2 \n",
        "\n",
        "    loss_trace.append(loss)\n",
        "\n",
        "  return W1, B1, W2, B2, loss_trace, loss, O\n"
      ],
      "execution_count": null,
      "outputs": []
    },
    {
      "cell_type": "code",
      "metadata": {
        "id": "MZXjnh-B16nk"
      },
      "source": [
        "# initialize\n",
        "W1, B1, W2, B2 = init_params()\n",
        "\n",
        "# train\n",
        "W1, B1, W2, B2, loss_trace, loss, O = train(W1, B1, W2, B2, 0.1, 4000)"
      ],
      "execution_count": null,
      "outputs": []
    },
    {
      "cell_type": "code",
      "metadata": {
        "colab": {
          "base_uri": "https://localhost:8080/",
          "height": 313
        },
        "id": "BprrKx6UJ4DR",
        "outputId": "72aa2894-3733-43a3-bb89-050c70002509"
      },
      "source": [
        "import matplotlib.pyplot as plt\n",
        "\n",
        "plt.plot(loss_trace)\n",
        "plt.ylabel('loss')\n",
        "plt.xlabel('iterations')\n",
        "plt.show()\n",
        "print(O)\n",
        "print(loss)"
      ],
      "execution_count": null,
      "outputs": [
        {
          "output_type": "display_data",
          "data": {
            "image/png": "[encoded data removed]",
            "text/plain": [
              "<Figure size 432x288 with 1 Axes>"
            ]
          },
          "metadata": {
            "tags": [],
            "needs_background": "light"
          }
        },
        {
          "output_type": "stream",
          "text": [
            "[[0.01384689 0.97212683 0.9882147  0.00812316]]\n",
            "0.015556071388341306\n"
          ],
          "name": "stdout"
        }
      ]
    },
    {
      "cell_type": "code",
      "metadata": {
        "colab": {
          "base_uri": "https://localhost:8080/",
          "height": 314
        },
        "id": "0gTy7WXX2D-p",
        "outputId": "48696795-ad86-446b-f221-e08ce760b592"
      },
      "source": [
        "# lr = 0.1, weight, bias zero vector\n",
        "# proof that NN is useless with initial weight set to zero\n",
        "\n",
        "plt.plot(loss_trace)\n",
        "plt.ylabel('loss')\n",
        "plt.xlabel('iterations')\n",
        "plt.show()\n",
        "print(O)\n",
        "print(loss)"
      ],
      "execution_count": null,
      "outputs": [
        {
          "output_type": "display_data",
          "data": {
            "image/png": "[encoded data removed]",
            "text/plain": [
              "<Figure size 432x288 with 1 Axes>"
            ]
          },
          "metadata": {
            "tags": [],
            "needs_background": "light"
          }
        },
        {
          "output_type": "stream",
          "text": [
            "[[0.5 0.5 0.5 0.5]]\n",
            "0.6931471805599453\n"
          ],
          "name": "stdout"
        }
      ]
    },
    {
      "cell_type": "markdown",
      "metadata": {
        "id": "Sr9MOG-14f3M"
      },
      "source": [
        "XOR 연산 만족시키는 output : [0, 1, 1, 0]에 가까워야 한다"
      ]
    },
    {
      "cell_type": "code",
      "metadata": {
        "id": "zhQPjewK-Eei"
      },
      "source": [],
      "execution_count": null,
      "outputs": []
    }
  ]
}